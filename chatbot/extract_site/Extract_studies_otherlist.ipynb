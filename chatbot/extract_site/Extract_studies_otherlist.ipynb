{
 "cells": [
  {
   "cell_type": "code",
   "execution_count": 6,
   "metadata": {},
   "outputs": [],
   "source": [
    "from selenium import webdriver\n",
    "from selenium.webdriver.common.by import By\n",
    "from selenium.webdriver.support import expected_conditions as EC\n",
    "import re\n",
    "import time\n",
    "\n",
    "driver = webdriver.Firefox()\n",
    "url = 'http://student.uva.nl/opleidingen/opleidingenlijst.html'\n",
    "driver.get(url)"
   ]
  },
  {
   "cell_type": "code",
   "execution_count": 8,
   "metadata": {
    "scrolled": false
   },
   "outputs": [
    {
     "name": "stdout",
     "output_type": "stream",
     "text": [
      "['Algemene sociale wetenschappen (bachelor)', 'Amsterdam EXchange programme - Amsterdam Law School', 'Amsterdam Exchange Programme – Social Sciences', 'Arabische taal en cultuur (bachelor)', 'Arbeidsrecht (master)', 'Arbeidsrecht: Arbeid en onderneming (master)', \"Archaeology: Archaeology of North-Western Europe (Master's)\", 'Archaeology: Heritage, Memory and Archaeology (Research Master’s)', \"Archaeology: Landscape and Heritage (Master's)\", \"Archaeology: Mediterranean Archaeology (Master's)\", 'Archeologie en prehistorie (bachelor)', \"Artificial Intelligence (Master's)\", \"Arts and Culture: Art Studies (Research Master's)\", \"Arts and Culture: Artistic Research (Research Master's)\", \"Arts and Culture: Arts of the Netherlands (Master's)\", \"Arts and Culture: Comparative Cultural Analysis (Master's)\", \"Arts and Culture: Cultural Analysis (Research Master's)\", \"Arts and Culture: International Dramaturgy (Master's)\", \"Arts and Culture: Musicology (Master's)\", \"Arts and Culture: Theatre Studies (Master's)\", \"Astronomy and Astrophysics (Master's)\", 'Bèta-gamma (bachelor)', 'Bijzondere educatieve master Duits (master)', \"Biological Sciences (Master's)\", 'Biologie (bachelor)', \"Biomedical Sciences (Master's)\", 'Biomedische wetenschappen (bachelor)', \"Brain and Cognitive Sciences (Master's)\", 'Business Administration (bachelor)', \"Business Administration (Master's)\", \"Business Economics (Master's)\", \"Chemistry (Master's)\", \"Child Development and Education (Research Master's)\", \"Classics and Ancient Civilizations: Ancient History (Master's)\", \"Classics and Ancient Civilizations: Ancient Studies (Master's)\", \"Classics and Ancient Civilizations: Classics (Master's)\", 'Cognition, Language and Communication (bachelor)', 'Communicatie en Informatiewetenschappen: Tekst en communicatie (master)', 'Communicatiewetenschap (bachelor)', 'Communication and Information Studies: Argumentation, Rhetoric and Communication (Research Master’s)', \"Communication and Information Studies: Discourse and Argumentation studies (Master's)\", \"Communication Science (Bachelor's)\", \"Communication Science (Master's)\", 'Communication Science (Research Master)', \"Computational Science (Master's)\", \"Conflict Resolution and Governance (Master's)\", \"Conservation and Restoration of Cultural Heritage (Master's)\", \"Contemporary Asian Studies (Master's)\", \"Cultural and Social Anthropology (Master's)\", 'Culturele antropologie en ontwikkelingssociologie (bachelor)', 'Cultuurwetenschappen (bachelor)', 'Duitse taal en cultuur (bachelor)', \"Earth Sciences (Master's)\", \"Econometrics (Master's)\", 'Econometrie en operationeel research (bachelor)', \"Economics (Master's)\", 'Economics and business (bachelor)', 'Economics and Business Economics (bachelor)', 'Economie en Bedrijfskunde (bachelor)', 'Engelse taal en cultuur (bachelor)', 'English Language and Culture (bachelor)', 'Entrepreneurship (joint degree VU and UvA)', \"European Private Law (Master's)\", 'European Studies (bachelor)', \"European Studies: East European Studies (Master's)\", \"European Studies: European Policy (Master's)\", \"European Studies: Governing Europe (Master's)\", \"European Studies: Identity and Integration (Master's)\", 'Europese studies (bachelor)', 'Filosofie: Wijsbegeerte (master)', 'Filosofie: Wijsbegeerte van een bepaald wetenschapsgebied (master)', 'Fiscaal recht (bachelor)', 'Fiscaal recht: Internationaal en Europees belastingrecht (master)', 'Fiscaal recht: Nederlands belastingrecht (master)', 'Fiscale economie (bachelor)', 'Fiscale economie (master)', \"Forensic Science (Master's)\", 'Franse taal en cultuur (bachelor)', 'Future Planet Studies (bachelor)', 'Geneeskunde (bachelor)', 'Geneeskunde (master)', 'Geschiedenis (bachelor)', 'Geschiedenis (master)', 'Geschiedenis (onderzoeksmaster)', 'Geschiedenis: Duitslandstudies (master)', 'Geschiedenis: Geschiedenis van de Internationale Betrekkingen (master)', 'Geschiedenis: Gouden Eeuw (master)', 'Geschiedenis: Militaire geschiedenis (master)', 'Geschiedenis: Publieksgeschiedenis (master)', 'Griekse en Latijnse taal en cultuur (bachelor)', 'Hebreeuwse taal en cultuur (bachelor)', \"Heritage Studies: Archival and Information Studies (Master's)\", \"Heritage Studies: Curating Arts and Culture (Master's)\", \"Heritage Studies: Heritage and Memory Studies (Master's)\", \"Heritage Studies: Museum Studies (Master's)\", \"Heritage Studies: Preservation and Presentation of the Moving Image (Master's)\", \"History: American Studies (Master's)\", \"History: Holocaust and Genocide Studies (Master's)\", \"Human Geography (Master's)\", 'Informatica (bachelor)', 'Informatiekunde (bachelor)', 'Informatierecht (master)', \"Information Law (Research Master's)\", \"Information Studies (Master's)\", 'Interfacultaire lerarenopleidingen (master)', \"International and European Law: European Competition Law and Regulation (Master's)\", \"International and European Law: European Union Law (Master's)\", \"International and European Law: International Trade and Investment Law (Master's)\", \"International and European Law: Public International Law (Master's)\", \"International Criminal Law (Master's)\", \"International Development Studies (Master's)\", \"International Development Studies (Research Master's)\", 'Italië studies (bachelor)', 'Kunst- en cultuurwetenschappen: Boekwetenschap en handschriftkunde (master)', 'Kunst- en cultuurwetenschappen: Dramaturgie (master)', 'Kunst- en cultuurwetenschappen: Kunst, cultuur en politiek (master)', 'Kunst- en cultuurwetenschappen: Kunstgeschiedenis (master)', 'Kunstgeschiedenis (bachelor)', 'Kunstmatige intelligentie (bachelor)', \"Labour Law: European and International Labour Law (Master's)\", 'Latijnse taal en cultuur (bachelor)', 'Liberal Arts and Sciences (Bachelor)', \"Life Sciences (Master's)\", \"Linguistics (Bachelor's)\", \"Linguistics (Research Master's)\", \"Linguistics: General Linguistics (Master's)\", \"Linguistics: Language and Education (Master's)\", \"Linguistics: Language and Society (Master's)\", 'Linguistics: Sign Language Linguistics (Bachelor’s)', \"Literary Studies (Research Master's)\", \"Literary Studies: Comparative Literature (Master's)\", \"Literary Studies: English literature and Culture (Master's)\", \"Literary Studies: Literary and Cultural Analysis (Bachelor's)\", \"Literary Studies: Literature and Education (Master's)\", \"Literary Studies: Literature, Culture and Society (Master's)\", 'Literatuurwetenschap (bachelor)', \"Logic (Master's)\", \"Mathematical Physics (Master's)\", \"Mathematics (Master's)\", \"Media and Information (Bachelor's)\", 'Media en cultuur (bachelor)', 'Media en informatie (bachelor)', \"Media Studies (Research Master's)\", \"Media Studies: Film Studies (Master's)\", 'Media Studies: Journalistiek en media (master)', \"Media Studies: New Media and Digital Culture (Master's)\", \"Media Studies: Television and Cross-Media Culture (Master's)\", \"Medical Anthropology and Sociology (Master's)\", \"Medical Informatics (Master's)\", 'Medische informatiekunde (bachelor)', 'Midden-Oostenstudies (master)', \"Middle Eastern Studies: Hebrew and Jewish Studies (Master's)\", 'Muziekwetenschap (bachelor)', 'Natuurkunde en Sterrenkunde (bachelor)', 'Nederlandse taal en cultuur (bachelor)', 'Nederlandse taal en cultuur: Taal en Communicatie (bachelor)', 'Neerlandistiek: Nederlandse letterkunde (onderzoeksmaster)', 'Neerlandistiek: Nederlandse taal en cultuur (master)', 'Neerlandistiek: Redacteur/editor (master)', 'Nieuwgriekse taal en cultuur (bachelor)', 'Notarieel recht (bachelor)', 'Notarieel recht (master)', 'Onderwijswetenschappen (master)', 'Oudheidwetenschappen (bachelor)', 'Pedagogische en onderwijswetenschappen (bachelors)', 'Pedagogische Wetenschappen (master)', \"Philosophy (Master's)\", \"Philosophy (Research Master's)\", \"Physics (Master's)\", \"Physics and Astronomy (Master's)\", \"Political Science (Bachelor's)\", \"Political Science (Master's)\", 'Politicologie (bachelor)', 'Politicologie (master)', 'Politics, Psychology, Law and Economics (bachelor)', 'Privaatrecht: Commerciële rechtspraktijk (master)', 'Privaatrecht: Privaatrechtelijke rechtspraktijk (master)', 'Psychobiologie (bachelor)', 'Psychologie (bachelor en master)', \"Psychology (Research Master's)\", \"Public International Law (Research Master's)\", 'Publiekrecht: Gezondheidsrecht (master)', 'Publiekrecht: Militair recht (master)', 'Publiekrecht: Staats- en bestuursrecht (master)', 'Publiekrecht: Strafrecht (master)', 'Rechtsgeleerdheid (bachelor)', 'Religiewetenschappen (bachelor)', 'Scandinavische talen en culturen (bachelor)', 'Scheikunde (bachelor)', 'Slavische talen en culturen (bachelor)', \"Social Sciences (Research Master's)\", 'Sociale geografie en Planologie (bachelor)', 'Sociologie (bachelor)', \"Sociology (Bachelor's)\", \"Sociology (Master's)\", \"Software Engineering (Master's)\", 'Spaanse taal en cultuur (bachelor)', \"Stochastics and Financial Mathematics (Master's)\", \"System and Network Engineering (Master's)\", 'Taalwetenschap (bachelor)', 'Taalwetenschap: Gebarentaalwetenschap (bachelor)', 'Taalwetenschappen: Nederlands als tweede taal en meertaligheid (master)', 'Taalwetenschappen: Vertalen (master)', 'Tandheelkunde (bachelor)', 'Tandheelkunde (master)', 'Theaterwetenschap (bachelor)', 'Theologie en religiewetenschappen: Islam in de moderne wereld (master)', 'Theologie en religiewetenschappen: Religie en identiteit in de moderne wereld (master)', \"Theology and Religious Studies: Religious Studies (Master's)\", \"Theology and Religious Studies: Religious Studies (Research Master's)\", \"Theology and Religious Studies: Western Esotericism (Master's)\", 'Universitaire Pabo van Amsterdam', \"Urban and Regional Planning (Master's)\", \"Urban Studies (Research Master's)\", 'Wijsbegeerte (bachelor)', 'Wiskunde (bachelor)']\n"
     ]
    }
   ],
   "source": [
    "import math\n",
    "all_items = []\n",
    "\n",
    "article = driver.find_elements_by_xpath('.//article[@class=\"twelve columns\"]')[0]\n",
    "arti = article.text\n",
    "all_lines = arti.split(\"\\n\")[5:]\n",
    "\n",
    "# all_studies = []\n",
    "# for i in range(math.ceil(len(all_lines)/2)):\n",
    "#     j = 2*i\n",
    "# #     print(\"L\", all_lines[j+1])\n",
    "#     splitlines = all_lines[j+1].split(\" \")\n",
    "#     if 'Minor' in splitlines:\n",
    "#         splitlines.append('; ')\n",
    "#         all_lines[j+1] = \" \".join(splitlines).replace(\" ;\",\";\")\n",
    "#     for k in range(len(splitlines)):\n",
    "#         if 'time' in splitlines[k]:\n",
    "#             splitlines.insert(k,\";\")\n",
    "#             all_lines[j+1] = \" \".join(splitlines).replace(\" ;\",\";\")\n",
    "#             break\n",
    "#     all_studies.append(all_lines[j]+'; '+all_lines[j+1])\n",
    "    \n",
    "# print(all_studies)\n",
    "print(all_lines)"
   ]
  },
  {
   "cell_type": "code",
   "execution_count": 28,
   "metadata": {},
   "outputs": [],
   "source": [
    "file = open('studies_long_master.txt','w+')\n",
    "for item in all_studies:\n",
    "    file.write(item+'\\n')\n",
    "file.close()"
   ]
  },
  {
   "cell_type": "code",
   "execution_count": null,
   "metadata": {},
   "outputs": [],
   "source": []
  }
 ],
 "metadata": {
  "kernelspec": {
   "display_name": "Python 3",
   "language": "python",
   "name": "python3"
  },
  "language_info": {
   "codemirror_mode": {
    "name": "ipython",
    "version": 3
   },
   "file_extension": ".py",
   "mimetype": "text/x-python",
   "name": "python",
   "nbconvert_exporter": "python",
   "pygments_lexer": "ipython3",
   "version": "3.5.2"
  }
 },
 "nbformat": 4,
 "nbformat_minor": 2
}
